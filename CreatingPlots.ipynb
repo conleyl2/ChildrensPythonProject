{
 "cells": [
  {
   "cell_type": "code",
   "execution_count": 5,
   "metadata": {},
   "outputs": [],
   "source": [
    "import tweepy\n",
    "from vaderSentiment.vaderSentiment import SentimentIntensityAnalyzer\n",
    "from datetime import datetime\n",
    "from config import conkey, conkeysecret, atoken, atokensecret\n",
    "import pandas as pd\n",
    "import numpy as np\n",
    "from matplotlib import pyplot as plt\n",
    "from scipy import stats"
   ]
  },
  {
   "cell_type": "code",
   "execution_count": 2,
   "metadata": {},
   "outputs": [],
   "source": [
    "analyzer = SentimentIntensityAnalyzer()\n",
    "auth = tweepy.OAuthHandler(conkey,conkeysecret)\n",
    "auth.set_access_token(atoken,atokensecret)\n",
    "api = tweepy.API(auth, parser=tweepy.parsers.JSONParser(),wait_on_rate_limit=True)"
   ]
  },
  {
   "cell_type": "code",
   "execution_count": 3,
   "metadata": {},
   "outputs": [
    {
     "data": {
      "text/html": [
       "<div>\n",
       "<style scoped>\n",
       "    .dataframe tbody tr th:only-of-type {\n",
       "        vertical-align: middle;\n",
       "    }\n",
       "\n",
       "    .dataframe tbody tr th {\n",
       "        vertical-align: top;\n",
       "    }\n",
       "\n",
       "    .dataframe thead th {\n",
       "        text-align: right;\n",
       "    }\n",
       "</style>\n",
       "<table border=\"1\" class=\"dataframe\">\n",
       "  <thead>\n",
       "    <tr style=\"text-align: right;\">\n",
       "      <th></th>\n",
       "      <th>Symbol</th>\n",
       "      <th>Company</th>\n",
       "    </tr>\n",
       "  </thead>\n",
       "  <tbody>\n",
       "    <tr>\n",
       "      <th>0</th>\n",
       "      <td>AXP</td>\n",
       "      <td>American Express Co</td>\n",
       "    </tr>\n",
       "    <tr>\n",
       "      <th>1</th>\n",
       "      <td>AAPL</td>\n",
       "      <td>Apple Inc</td>\n",
       "    </tr>\n",
       "    <tr>\n",
       "      <th>2</th>\n",
       "      <td>BA</td>\n",
       "      <td>Boeing Co</td>\n",
       "    </tr>\n",
       "    <tr>\n",
       "      <th>3</th>\n",
       "      <td>CAT</td>\n",
       "      <td>Caterpillar Inc</td>\n",
       "    </tr>\n",
       "    <tr>\n",
       "      <th>4</th>\n",
       "      <td>CSCO</td>\n",
       "      <td>Cisco Systems Inc</td>\n",
       "    </tr>\n",
       "  </tbody>\n",
       "</table>\n",
       "</div>"
      ],
      "text/plain": [
       "  Symbol              Company\n",
       "0    AXP  American Express Co\n",
       "1   AAPL            Apple Inc\n",
       "2     BA            Boeing Co\n",
       "3    CAT      Caterpillar Inc\n",
       "4   CSCO    Cisco Systems Inc"
      ]
     },
     "execution_count": 3,
     "metadata": {},
     "output_type": "execute_result"
    }
   ],
   "source": [
    "stock_data = pd.read_csv(\"StocksDow.csv\")\n",
    "stock_data.head()"
   ]
  },
  {
   "cell_type": "code",
   "execution_count": null,
   "metadata": {},
   "outputs": [],
   "source": [
    "#pulled from whatever source we're using, set as lists for now, but can be changed\n",
    "pull_dates = [\"2018-04-04\",\"2018-04-03\",\"2018-04-02\",\"2018-04-01\",\"2018-03-31\",\"2018-03-30\",\"2018-03-29\"]\n",
    "\n",
    "#for dataframe\n",
    "stock_name_daily = []\n",
    "sentiments_daily = []\n",
    "\n",
    "prev_date = \"2018-04-05\""
   ]
  },
  {
   "cell_type": "code",
   "execution_count": null,
   "metadata": {},
   "outputs": [],
   "source": [
    "#loop to check for every stock for every date and grab a sample of 100 tweets\n",
    "for stocks in stock_data['Company']:\n",
    "    for dates in pull_dates:\n",
    "        stock_text = []\n",
    "        sentiments = []\n",
    "        tweets = api.search(q=stocks,count=100,since=dates,until=prev_date)\n",
    "        prev_date = dates\n",
    "        #run through 100 tweets for that day\n",
    "        for public_tweets in tweets['statuses']:\n",
    "            stock_text.append(public_tweets['text'])\n",
    "            #vader sentiments\n",
    "            sentiments.append(analyzer.polarity_scores(public_tweets['text'])['compound'])\n",
    "            #append daily data to tables\n",
    "        sentiments_daily.append(np.mean(sentiments))\n",
    "        stock_name_daily.append(stocks)"
   ]
  },
  {
   "cell_type": "code",
   "execution_count": null,
   "metadata": {},
   "outputs": [],
   "source": [
    "#Setting Up Dataframe                \n",
    "twitter_df = pd.DataFrame({'Stock Name':stock_name_daily,\n",
    "                            'Date':pull_dates,\n",
    "                            'Sentiments':sentiments_daily})\n",
    "twitter_df.head()"
   ]
  },
  {
   "cell_type": "code",
   "execution_count": null,
   "metadata": {},
   "outputs": [],
   "source": [
    "# Calculate DJIA information and add to separate df?"
   ]
  },
  {
   "cell_type": "code",
   "execution_count": null,
   "metadata": {},
   "outputs": [],
   "source": [
    "from matplotlib import pyplot as plt"
   ]
  },
  {
   "cell_type": "code",
   "execution_count": null,
   "metadata": {},
   "outputs": [],
   "source": [
    "# Creates a dictionary to house a separate dataframe for each stock\n",
    "d = {}\n",
    "for row in main_df:\n",
    "    for stock in stock_name_list:\n",
    "        d[str(stock)] = df.loc[main_df['Stock Name'] == stock]\n",
    "d[\"AXP\"]"
   ]
  },
  {
   "cell_type": "code",
   "execution_count": null,
   "metadata": {},
   "outputs": [],
   "source": [
    "# Creates separate Sentiment plot for every stock\n",
    "for stock in stock_name_list:\n",
    "    fontsize=30\n",
    "    d[stock].plot(kind='scatter', x='Date',\n",
    "                       y='Sentiments', grid=True,\n",
    "                       figsize=(20,10),\n",
    "                        fontsize=fontsize)\n",
    "    plt.title('Sentiments vs Time: ' + stock, fontsize=fontsize)\n",
    "    plt.xlabel('Dates', fontsize=fontsize)\n",
    "    plt.ylabel('Sentiment Score', fontsize=fontsize)"
   ]
  },
  {
   "cell_type": "code",
   "execution_count": null,
   "metadata": {},
   "outputs": [],
   "source": [
    "# Creates separate Price plot for every stock\n",
    "for stock in stock_name_list:\n",
    "    d[stock].plot(kind='scatter', x='Date',\n",
    "                       y='Price', grid=True,\n",
    "                       figsize=(20,10),\n",
    "                        fontsize=fontsize)\n",
    "    plt.title('Price vs Time: ' + stock, fontsize=fontsize)\n",
    "    plt.xlabel('Dates', fontsize=fontsize)\n",
    "    plt.ylabel('Price', fontsize=fontsize)"
   ]
  },
  {
   "cell_type": "code",
   "execution_count": null,
   "metadata": {},
   "outputs": [],
   "source": [
    "# Creates separate Volume plot for every stock\n",
    "for stock in stock_name_list:\n",
    "    d[stock].plot(kind='scatter', x='Date',\n",
    "                       y='Price', grid=True,\n",
    "                       figsize=(20,10),\n",
    "                        fontsize=fontsize)\n",
    "    plt.title('Volume vs Time: ' + stock, fontsize=fontsize)\n",
    "    plt.xlabel('Dates', fontsize=fontsize)\n",
    "    plt.ylabel('Volume', fontsize=fontsize)"
   ]
  },
  {
   "cell_type": "code",
   "execution_count": null,
   "metadata": {},
   "outputs": [],
   "source": [
    "# Plots specific stock at user request\n",
    "plt.figure(figsize=(8,5))\n",
    "\n",
    "# Ask user for specific stock\n",
    "stock_requested = input(\"Input ticker symbol of desired stock: \")\n",
    "\n",
    "# Create plot of Price and Sentiment based on user input **data not Normalized\n",
    "fontsize=15\n",
    "plt.xlim(min(d[stock_requested]['Dates']),\n",
    "         max(d[stock_requested]['Dates'])\n",
    "plt.ylim(0,max(d[stock_requested]['Price']))\n",
    "plt.title(stock_requested, fontsize=fontsize)\n",
    "plt.xlabel('Dates', fontsize=fontsize)\n",
    "plt.ylabel('Values', fontsize=fontsize)\n",
    "plt.grid(color='k', linestyle=':', linewidth=.5)\n",
    "plt.plot(d[stock_requested]['Dates'],\n",
    "            d[stock_requested]['Sentiments'])\n",
    "plt.plot(d[stock_requested]['Dates'],\n",
    "            d[stock_requested]['Price'])\n"
   ]
  },
  {
   "cell_type": "code",
   "execution_count": 15,
   "metadata": {},
   "outputs": [],
   "source": [
    "# Creates one plot with 2 different y-axis \n",
    "x = df.Date # Dates\n",
    "price = df.Price# Price\n",
    "sentiment = df.Sentiment # Sentiment\n",
    "\n",
    "fig, ax1 = plt.subplots()\n",
    "\n",
    "color = 'tab:red'\n",
    "ax1.set_xlabel('Date')\n",
    "ax1.set_ylabel('Price', color=color)\n",
    "ax1.plot(x, price, color=color)\n",
    "ax1.tick_params(axis='y', labelcolor=color)\n",
    "\n",
    "ax2 = ax1.twinx()  # instantiate a second axes that shares the same x-axis\n",
    "\n",
    "color = 'tab:blue'\n",
    "ax2.set_ylabel('Sentiments', color=color)\n",
    "ax2.plot(x, sentiment, color=color)\n",
    "ax2.tick_params(axis='y', labelcolor=color)\n",
    "\n",
    "fig.tight_layout()  # otherwise the right y-label is slightly clipped\n",
    "plt.show()"
   ]
  },
  {
   "cell_type": "code",
   "execution_count": null,
   "metadata": {},
   "outputs": [],
   "source": [
    "# Creates 2 subplots with Price and Sentiment\n",
    "x = df.Date\n",
    "price = df.Price\n",
    "sentiment = df.Sentiment\n",
    "\n",
    "# Create two subplots sharing x axis\n",
    "fig, (ax1, ax2) = plt.subplots(2, sharex=True)\n",
    "\n",
    "ax1.plot(x, price, 'b.-')\n",
    "ax1.set(title='Price and Sentiment vs Time', ylabel='Price')\n",
    "\n",
    "ax2.plot(x, sentiment, 'r.-')\n",
    "ax2.set(xlabel='Date', ylabel='Sentiment')\n",
    "\n",
    "plt.show()"
   ]
  },
  {
   "cell_type": "code",
   "execution_count": null,
   "metadata": {},
   "outputs": [],
   "source": [
    "# Creates 3 subplots with Price, Sentiment, and Trading Volume\n",
    "x = df.Date\n",
    "price = df.Price\n",
    "sentiment = df.Sentiment\n",
    "trade_volume = df.TradeVolume\n",
    "\n",
    "# Create two subplots sharing x axis\n",
    "fig, (ax1, ax2, ax3) = plt.subplots(3, sharex=True)\n",
    "\n",
    "ax1.plot(x, price, 'b.-')\n",
    "ax1.set(title='Price and Sentiment vs Time', ylabel='Price')\n",
    "\n",
    "ax2.plot(x, sentiment, 'r.-')\n",
    "ax2.set(xlabel='Date', ylabel='Sentiment')\n",
    "\n",
    "ax3.plot(x, trade_volume, 'g.-')\n",
    "ax3.set(xlabel='Date', ylabel='Trading Volume')\n",
    "\n",
    "plt.show()"
   ]
  }
 ],
 "metadata": {
  "kernelspec": {
   "display_name": "Python 3",
   "language": "python",
   "name": "python3"
  },
  "language_info": {
   "codemirror_mode": {
    "name": "ipython",
    "version": 3
   },
   "file_extension": ".py",
   "mimetype": "text/x-python",
   "name": "python",
   "nbconvert_exporter": "python",
   "pygments_lexer": "ipython3",
   "version": "3.6.4"
  }
 },
 "nbformat": 4,
 "nbformat_minor": 2
}
