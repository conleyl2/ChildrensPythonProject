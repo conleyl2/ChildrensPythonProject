{
 "cells": [
  {
   "cell_type": "code",
   "execution_count": 1,
   "metadata": {
    "scrolled": false
   },
   "outputs": [],
   "source": [
    "import datetime\n",
    "import pandas as pd\n",
    "from pandas_datareader import data, wb\n",
    "import csv \n",
    "import os \n",
    "import sys"
   ]
  },
  {
   "cell_type": "code",
   "execution_count": 2,
   "metadata": {},
   "outputs": [],
   "source": [
    "Stocks = \"StocksDow.csv\"\n",
    "dow_stocks = pd.read_csv(Stocks, encoding='iso-8859-1', low_memory=False)\n",
    "dow_stocks"
   ]
  },
  {
   "cell_type": "code",
   "execution_count": 4,
   "metadata": {},
   "outputs": [],
   "source": [
    "start = datetime.date(2018,4,1)\n",
    "end = datetime.date.today()"
   ]
  },
  {
   "cell_type": "code",
   "execution_count": 5,
   "metadata": {},
   "outputs": [
    {
     "data": {
      "text/html": [
       "<div>\n",
       "<style scoped>\n",
       "    .dataframe tbody tr th:only-of-type {\n",
       "        vertical-align: middle;\n",
       "    }\n",
       "\n",
       "    .dataframe tbody tr th {\n",
       "        vertical-align: top;\n",
       "    }\n",
       "\n",
       "    .dataframe thead th {\n",
       "        text-align: right;\n",
       "    }\n",
       "</style>\n",
       "<table border=\"1\" class=\"dataframe\">\n",
       "  <thead>\n",
       "    <tr style=\"text-align: right;\">\n",
       "      <th></th>\n",
       "      <th>Symbol</th>\n",
       "      <th>Date</th>\n",
       "      <th>Close</th>\n",
       "      <th>High</th>\n",
       "      <th>Low</th>\n",
       "      <th>Open</th>\n",
       "      <th>Volume</th>\n",
       "    </tr>\n",
       "  </thead>\n",
       "  <tbody>\n",
       "  </tbody>\n",
       "</table>\n",
       "</div>"
      ],
      "text/plain": [
       "Empty DataFrame\n",
       "Columns: [Symbol, Date, Close, High, Low, Open, Volume]\n",
       "Index: []"
      ]
     },
     "execution_count": 5,
     "metadata": {},
     "output_type": "execute_result"
    }
   ],
   "source": [
    "stock_history = pd.DataFrame(columns=['Symbol','Date','Close','High','Low','Open','Volume'])"
   ]
  },
  {
   "cell_type": "code",
   "execution_count": 6,
   "metadata": {
    "scrolled": true
   },
   "outputs": [
    {
     "name": "stdout",
     "output_type": "stream",
     "text": [
      " Extracting the stock data forAXP\n",
      " Extracting the stock data forAAPL\n",
      " Extracting the stock data forBA\n",
      " Extracting the stock data forCAT\n",
      " Extracting the stock data forCSCO\n",
      " Extracting the stock data forCVX\n",
      " Extracting the stock data forXOM\n",
      " Extracting the stock data forGE\n",
      " Extracting the stock data forGS\n",
      " Extracting the stock data forHD\n",
      " Extracting the stock data forIBM\n",
      " Extracting the stock data forINTC\n",
      " Extracting the stock data forJNJ\n",
      " Extracting the stock data forKO\n",
      " Extracting the stock data forJPM\n",
      " Extracting the stock data forMCD\n",
      " Extracting the stock data forMMM\n",
      " Extracting the stock data forMRK\n",
      " Extracting the stock data forMSFT\n",
      " Extracting the stock data forNKE\n",
      " Extracting the stock data forPFE\n",
      " Extracting the stock data forPG\n",
      " Extracting the stock data forTRV\n",
      " Extracting the stock data forUNH\n",
      " Extracting the stock data forUTX\n",
      " Extracting the stock data forVZ\n",
      " Extracting the stock data forV\n",
      " Extracting the stock data forWMT\n",
      " Extracting the stock data forDIS\n"
     ]
    },
    {
     "data": {
      "text/html": [
       "<div>\n",
       "<style scoped>\n",
       "    .dataframe tbody tr th:only-of-type {\n",
       "        vertical-align: middle;\n",
       "    }\n",
       "\n",
       "    .dataframe tbody tr th {\n",
       "        vertical-align: top;\n",
       "    }\n",
       "\n",
       "    .dataframe thead th {\n",
       "        text-align: right;\n",
       "    }\n",
       "</style>\n",
       "<table border=\"1\" class=\"dataframe\">\n",
       "  <thead>\n",
       "    <tr style=\"text-align: right;\">\n",
       "      <th></th>\n",
       "      <th>Close</th>\n",
       "      <th>Date</th>\n",
       "      <th>High</th>\n",
       "      <th>Low</th>\n",
       "      <th>Normalized Value</th>\n",
       "      <th>Open</th>\n",
       "      <th>Symbol</th>\n",
       "      <th>Volume</th>\n",
       "    </tr>\n",
       "  </thead>\n",
       "  <tbody>\n",
       "    <tr>\n",
       "      <th>0</th>\n",
       "      <td>91.00</td>\n",
       "      <td>2018-04-02</td>\n",
       "      <td>93.55</td>\n",
       "      <td>89.9582</td>\n",
       "      <td>-0.526875</td>\n",
       "      <td>93.14</td>\n",
       "      <td>AXP</td>\n",
       "      <td>4998386</td>\n",
       "    </tr>\n",
       "    <tr>\n",
       "      <th>1</th>\n",
       "      <td>92.74</td>\n",
       "      <td>2018-04-03</td>\n",
       "      <td>92.93</td>\n",
       "      <td>91.1800</td>\n",
       "      <td>0.016875</td>\n",
       "      <td>91.55</td>\n",
       "      <td>AXP</td>\n",
       "      <td>2864528</td>\n",
       "    </tr>\n",
       "    <tr>\n",
       "      <th>2</th>\n",
       "      <td>93.58</td>\n",
       "      <td>2018-04-04</td>\n",
       "      <td>93.92</td>\n",
       "      <td>91.0800</td>\n",
       "      <td>0.279375</td>\n",
       "      <td>91.21</td>\n",
       "      <td>AXP</td>\n",
       "      <td>4619167</td>\n",
       "    </tr>\n",
       "    <tr>\n",
       "      <th>3</th>\n",
       "      <td>94.20</td>\n",
       "      <td>2018-04-05</td>\n",
       "      <td>95.05</td>\n",
       "      <td>93.8000</td>\n",
       "      <td>0.473125</td>\n",
       "      <td>94.20</td>\n",
       "      <td>AXP</td>\n",
       "      <td>2482315</td>\n",
       "    </tr>\n",
       "    <tr>\n",
       "      <th>4</th>\n",
       "      <td>91.91</td>\n",
       "      <td>2018-04-06</td>\n",
       "      <td>93.81</td>\n",
       "      <td>90.8100</td>\n",
       "      <td>-0.242500</td>\n",
       "      <td>93.24</td>\n",
       "      <td>AXP</td>\n",
       "      <td>2968942</td>\n",
       "    </tr>\n",
       "  </tbody>\n",
       "</table>\n",
       "</div>"
      ],
      "text/plain": [
       "   Close       Date   High      Low  Normalized Value   Open Symbol   Volume\n",
       "0  91.00 2018-04-02  93.55  89.9582         -0.526875  93.14    AXP  4998386\n",
       "1  92.74 2018-04-03  92.93  91.1800          0.016875  91.55    AXP  2864528\n",
       "2  93.58 2018-04-04  93.92  91.0800          0.279375  91.21    AXP  4619167\n",
       "3  94.20 2018-04-05  95.05  93.8000          0.473125  94.20    AXP  2482315\n",
       "4  91.91 2018-04-06  93.81  90.8100         -0.242500  93.24    AXP  2968942"
      ]
     },
     "execution_count": 6,
     "metadata": {},
     "output_type": "execute_result"
    }
   ],
   "source": [
    "for index, row in dow_stocks.iterrows():\n",
    "    ticker = row['Symbol']\n",
    "    print(\" Extracting the stock data for\" + ticker)\n",
    "    stock_data = data.get_data_morningstar(ticker, start, end)\n",
    "    stock_data[\"Normalized Value\"] = ((stock_data[\"Close\"] - stock_data[\"Close\"].mean()) /(stock_data[\"Close\"].max() - stock_data[\"Close\"].min()))\n",
    "    df = stock_data.reset_index()\n",
    "    stock_history = pd.concat([stock_history, df], ignore_index=True)\n",
    "stock_history = stock_history.drop(columns=['High', 'Low', 'Open'])\n",
    "stock_history = stock_history.rename(columns = {\"Close\": \"Closing Price\", \"Volume\": \"Shares Traded\", \"Symbol\": \"Ticker\", \"Date\": \"Trade Date\"})\n",
    "stock_history = stock_history.sort_values('Ticker', 'Trade Date')\n",
    "stock_history = stock_history[[\"Ticker\", \"Trade Date\", \"Closing Price\", \"Shares Traded\", \"Normalized Value\"]]\n",
    "stock_history"
   ]
  },
  {
   "cell_type": "code",
   "execution_count": 12,
   "metadata": {},
   "outputs": [],
   "source": [
    "output_file = os.path.join(\"Dow_Stock_data.csv\")\n",
    "stock_history.to_csv(output_file, index=False)"
   ]
  },
  {
   "cell_type": "code",
   "execution_count": null,
   "metadata": {},
   "outputs": [],
   "source": [
    "newformat = oldformat.strftime('%m/%d/%Y')"
   ]
  }
 ],
 "metadata": {
  "kernelspec": {
   "display_name": "Python 3",
   "language": "python",
   "name": "python3"
  },
  "language_info": {
   "codemirror_mode": {
    "name": "ipython",
    "version": 3
   },
   "file_extension": ".py",
   "mimetype": "text/x-python",
   "name": "python",
   "nbconvert_exporter": "python",
   "pygments_lexer": "ipython3",
   "version": "3.6.4"
  }
 },
 "nbformat": 4,
 "nbformat_minor": 2
}
